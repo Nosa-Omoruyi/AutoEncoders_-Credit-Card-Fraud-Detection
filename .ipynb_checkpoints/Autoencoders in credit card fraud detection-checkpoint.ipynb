{
 "cells": [
  {
   "cell_type": "code",
   "execution_count": 1,
   "id": "842ab6c3",
   "metadata": {},
   "outputs": [],
   "source": [
    "import pandas as pd\n",
    "import numpy as np\n",
    "import matplotlib.pyplot as plt\n",
    "from sklearn.model_selection import train_test_split, RandomizedSearchCV\n",
    "from sklearn.metrics import accuracy_score, precision_score, recall_score, f1_score, confusion_matrix, precision_recall_curve"
   ]
  },
  {
   "cell_type": "code",
   "execution_count": 2,
   "id": "e552fcb6",
   "metadata": {},
   "outputs": [
    {
     "data": {
      "text/plain": [
       "(284807, 31)"
      ]
     },
     "execution_count": 2,
     "metadata": {},
     "output_type": "execute_result"
    }
   ],
   "source": [
    "df = pd.read_csv('creditcard.csv')\n",
    "df.shape"
   ]
  },
  {
   "cell_type": "code",
   "execution_count": null,
   "id": "5f8bde8a",
   "metadata": {},
   "outputs": [],
   "source": [
    "from sklearn.preprocessing import StandardScaler\n",
    "from keras.models import Model, load_model\n",
    "from keras.layers import Input, Dense\n",
    "from keras.callbacks import ModelCheckpoint"
   ]
  },
  {
   "cell_type": "code",
   "execution_count": null,
   "id": "b9967156",
   "metadata": {},
   "outputs": [],
   "source": [
    "# Preparing data for modelling\n",
    "def prep_data(df):\n",
    "    '''\n",
    "    INPUT:\n",
    "    df - input DataFrame\n",
    "    \n",
    "    OUTPUT:\n",
    "    X_train - training input\n",
    "    X_test - testing input\n",
    "    y_test - testing ouput\n",
    "    '''\n",
    "    \n",
    "    # Dropping Time as it does not matter to fraud detection\n",
    "    df = df.drop(['Time'], axis=1)\n",
    "\n",
    "    X_train, X_test = train_test_split(df, test_size=0.2, random_state=66)\n",
    "    X_train = X_train[X_train.Class == 0]\n",
    "    y_train = X_train.Class\n",
    "    X_train = X_train.drop(['Class'], axis=1)\n",
    "\n",
    "    y_test = X_test.Class\n",
    "    X_test = X_test.drop(['Class'], axis=1)\n",
    "\n",
    "    X_train = X_train.values\n",
    "    X_test = X_test.values\n",
    "    \n",
    "    return X_train, X_test, y_test"
   ]
  },
  {
   "cell_type": "code",
   "execution_count": null,
   "id": "4501f4fb",
   "metadata": {},
   "outputs": [],
   "source": [
    "df = pd.read_csv('creditcard.csv')\n",
    "df['Amount'] = StandardScaler().fit_transform(df['Amount'].values.reshape(-1, 1))\n",
    "X_train, X_test, y_test = prep_data(df)"
   ]
  },
  {
   "cell_type": "code",
   "execution_count": null,
   "id": "04199f36",
   "metadata": {},
   "outputs": [],
   "source": [
    "input_dim = X_train.shape[1]\n",
    "input_layer = Input(shape=(input_dim, ))\n",
    "\n",
    "encoder = Dense(32, activation=\"tanh\")(input_layer)\n",
    "encoder = Dense(16, activation=\"relu\")(encoder)\n",
    "\n",
    "decoder = Dense(16, activation='tanh')(encoder)\n",
    "decoder = Dense(input_dim, activation='relu')(decoder)\n",
    "\n",
    "autoencoder = Model(inputs=input_layer, outputs=decoder)\n",
    "autoencoder.compile(optimizer='adam', loss='mean_squared_error', metrics=['accuracy'])\n",
    "\n",
    "filepath = \"autoencoder_model.h5\"\n",
    "checkpoint = ModelCheckpoint(filepath, monitor='val_acc', verbose=1, save_best_only=True)"
   ]
  },
  {
   "cell_type": "code",
   "execution_count": null,
   "id": "3c30add4",
   "metadata": {},
   "outputs": [],
   "source": [
    "history = autoencoder.fit(X_train, X_train, epochs=100, batch_size=32, shuffle=True, \n",
    "                          validation_data=(X_test, X_test), callbacks=[checkpoint], verbose=1)\n",
    "pd.DataFrame(history.history).to_csv('history.csv')"
   ]
  },
  {
   "cell_type": "code",
   "execution_count": null,
   "id": "8559b517",
   "metadata": {},
   "outputs": [],
   "source": [
    "log = pd.read_csv('history.csv')\n",
    "log.head()"
   ]
  },
  {
   "cell_type": "code",
   "execution_count": null,
   "id": "904d8bf8",
   "metadata": {},
   "outputs": [],
   "source": [
    "autoencoder = load_model('autoencoder_model.h5')\n",
    "pred = autoencoder.predict(X_test)"
   ]
  },
  {
   "cell_type": "code",
   "execution_count": null,
   "id": "2e2b0ffb",
   "metadata": {},
   "outputs": [],
   "source": [
    "mse = np.mean(np.power(X_test - pred, 2), axis=1)\n",
    "error_df = pd.DataFrame({'Reconstruction_Error': mse, 'Class': y_test})\n",
    "display(error_df)"
   ]
  },
  {
   "cell_type": "code",
   "execution_count": null,
   "id": "0b6652f0",
   "metadata": {},
   "outputs": [],
   "source": [
    "error_df_fraud = error_df[error_df.Class == 1]['Reconstruction_Error']\n",
    "error_df_normal = error_df[error_df.Class == 0]['Reconstruction_Error']"
   ]
  },
  {
   "cell_type": "code",
   "execution_count": null,
   "id": "20d7c57a",
   "metadata": {},
   "outputs": [],
   "source": [
    "threshold = 3\n",
    "error_df['Prediction'] = error_df.Reconstruction_Error > threshold\n",
    "error_df.Prediction = error_df.Prediction.apply(lambda x: 1 if x is True else 0)"
   ]
  },
  {
   "cell_type": "code",
   "execution_count": null,
   "id": "4f5bf180",
   "metadata": {},
   "outputs": [],
   "source": [
    "print_metrics(error_df.Class, error_df.Prediction)"
   ]
  },
  {
   "cell_type": "code",
   "execution_count": null,
   "id": "ee974a8b",
   "metadata": {},
   "outputs": [],
   "source": []
  },
  {
   "cell_type": "code",
   "execution_count": null,
   "id": "e2feea6b",
   "metadata": {},
   "outputs": [],
   "source": []
  }
 ],
 "metadata": {
  "kernelspec": {
   "display_name": "Python 3",
   "language": "python",
   "name": "python3"
  },
  "language_info": {
   "codemirror_mode": {
    "name": "ipython",
    "version": 3
   },
   "file_extension": ".py",
   "mimetype": "text/x-python",
   "name": "python",
   "nbconvert_exporter": "python",
   "pygments_lexer": "ipython3",
   "version": "3.8.8"
  }
 },
 "nbformat": 4,
 "nbformat_minor": 5
}
